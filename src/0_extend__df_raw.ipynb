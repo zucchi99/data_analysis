{
 "cells": [
  {
   "cell_type": "code",
   "execution_count": 1,
   "metadata": {},
   "outputs": [],
   "source": [
    "from functions import *"
   ]
  },
  {
   "cell_type": "code",
   "execution_count": 2,
   "metadata": {},
   "outputs": [
    {
     "name": "stdout",
     "output_type": "stream",
     "text": [
      "parameters:\n",
      "x_axis: time [m]\n",
      "file_idx_uppaal: 0\n",
      "file_idx: 0\n",
      "tmp_idx: 0\n",
      "log: True\n",
      "reset_columns_when_OFF: True\n",
      "drop_outliers: True\n",
      "plot_scatterplot_matrix: False\n",
      "use_default_arima_params: True\n",
      "default_arima_params: [1, 1, 0]\n",
      "include_arima_simulations_in_analysis: True\n",
      "include_outliers: True\n",
      "mark_outliers: True\n"
     ]
    }
   ],
   "source": [
    "params = read_parameters()\n",
    "file_idx = params['file_idx']"
   ]
  },
  {
   "cell_type": "code",
   "execution_count": 3,
   "metadata": {},
   "outputs": [
    {
     "name": "stdout",
     "output_type": "stream",
     "text": [
      "file list:\n",
      "0 /app/data/from_sensors/0_raw/UF/2024-07-11 tap water - reflux valve closed.csv\n",
      "1 /app/data/from_sensors/0_raw/UF/2024-07-12 tap water - reflux valve open.csv\n",
      "2 /app/data/from_sensors/0_raw/UF/2024-07-15 wastewater 0.500 gL - reflux valve open.csv\n",
      "3 /app/data/from_sensors/0_raw/UF/2024-07-16 wastewater 0.125 gL - reflux valve open.csv\n",
      "4 /app/data/from_sensors/0_raw/UF/2024-07-16 wastewater 0.250 gL - reflux valve open.csv\n",
      "\n",
      "input file:\n",
      "/app/data/from_sensors/0_raw/UF/2024-07-11 tap water - reflux valve closed.csv\n",
      "\n",
      "output file:\n",
      "/app/data/from_sensors/1_extended/UF/v1/2024-07-11 tap water - reflux valve closed.csv\n"
     ]
    }
   ],
   "source": [
    "in_folder = PATH_SENSORS_DATA_RAW_UF\n",
    "cur_file, file_path = get_input_file(in_folder=in_folder, in_file_idx=file_idx, log=True)\n",
    "out_folder = PATH_SENSORS_DATA_EXT_UF_V1\n",
    "out_file_path = out_folder + cur_file\n",
    "print(f\"\\noutput file:\\n{out_file_path}\")"
   ]
  },
  {
   "cell_type": "code",
   "execution_count": 4,
   "metadata": {},
   "outputs": [],
   "source": [
    "cur_experiment = get_experiment_data(cur_file)\n",
    "cur_membrane   = get_membrane_data(cur_experiment)"
   ]
  },
  {
   "cell_type": "code",
   "execution_count": 5,
   "metadata": {},
   "outputs": [],
   "source": [
    "df = pd.read_csv(file_path)\n",
    "# print([ type(c) for c in df.columns ])\n",
    "df.rename(columns=UF_COLUMNS, inplace=True)\n",
    "df['datetime'] = pd.to_datetime(df[\"date\"] + \" \" + df[\"time\"], format='%Y/%m/%d %H:%M:%S')\n",
    "df['time span [s]'] = df['datetime'].diff().dt.total_seconds()\n",
    "df['time span [s]'] = df['time span [s]'].apply(lambda x : 60 if (58 <= x and x <= 62) else x) # 1-2 secs errors are removed\n",
    "# df['tank liters [L]'] = df['tank liters [%]'] * FEED_TANK_CAPACITY_LITERS / 100\n",
    "df.loc[0, 'time span [s]'] = 0.0\n",
    "DATE = df.loc[0, 'datetime'].date().isoformat()\n",
    "df = df[change_column_index(df.columns.tolist(), 'TMP [bar]', 7)] \n",
    "df = df[change_column_index(df.columns.tolist(), 'datetime', 0)] \n",
    "df = df[change_column_index(df.columns.tolist(), 'time span [s]', 1)]\n",
    "# df = df[change_column_index(df.columns.tolist(), 'tank liters [L]', 11)]\n",
    "df = change_unit_measure(df)\n",
    "df = df.drop(columns=['date', 'time', 'millisecond [ms]'])"
   ]
  },
  {
   "cell_type": "code",
   "execution_count": 6,
   "metadata": {},
   "outputs": [],
   "source": [
    "df['initial feed concentration [g/L]'] = cur_experiment['feed concentration g/L'].values[0]"
   ]
  },
  {
   "cell_type": "code",
   "execution_count": 7,
   "metadata": {},
   "outputs": [],
   "source": [
    "num_membrane_used = cur_experiment['number of membranes used'].values[0]\n",
    "membrane_area = cur_membrane['area [m2]'].values[0]\n",
    "A = membrane_area * num_membrane_used # m^2\n",
    "# print(f\"membrane: {cur_membrane['manufacturer'].values[0]}-{membrane_model}, number of membranes used: {num_membrane_used}, total area: {A} [m^2]\")\n",
    "df['area tot [m^2]'] = A"
   ]
  },
  {
   "cell_type": "code",
   "execution_count": 8,
   "metadata": {},
   "outputs": [],
   "source": [
    "df['prs permeate + ATM [Pa]'] = (df['prs permeate [kPa]'] + PRS_ATM_kpa) * 1000\n",
    "df['viscosity permeate [Pa s]'] = df.apply((lambda x : calc_viscosity(x['temperature [°C]'], pressure_Pa=x['prs permeate + ATM [Pa]'], element='Water')), axis=1)\n",
    "df = df[change_column_index(df.columns.tolist(), 'viscosity permeate [Pa s]', 8)]\n",
    "df = df.drop(columns=['prs permeate + ATM [Pa]'])"
   ]
  },
  {
   "cell_type": "code",
   "execution_count": 9,
   "metadata": {},
   "outputs": [],
   "source": [
    "# [L / h]   = [m^2]    * [L / m^2 h]\n",
    "# flow_prmt = area_tot * flux ==> flux = flow_prmt / area_tot\n",
    "df['flux [L/m^2h]'] = df['flow permeate [L/h]'] / A"
   ]
  },
  {
   "cell_type": "code",
   "execution_count": 10,
   "metadata": {},
   "outputs": [],
   "source": [
    "# PRS_IN = density [kg / m^3] * gravity [m / s^2] * height [m] = 997 * 9.81 * 1.0 = 9780,57 [Pa] = 9,78 [kPa]\n",
    "df['prs input [kPa]'] = 10.0 #TODO add this data into machines.xlsx\n",
    "df = df[change_column_index(df.columns.tolist(), 'prs input [kPa]', 2)]"
   ]
  },
  {
   "cell_type": "code",
   "execution_count": 11,
   "metadata": {},
   "outputs": [],
   "source": [
    "# res_tot = res_mbn + res_conc_pol + res_fouling\n",
    "# flux = prs_TMP / (viscosity * res_tot) ==> res_tot = prs_TMP / (viscosity_permeate * flux)\n",
    "# [1/m]             =     [kPa]       / ([m^3 / m^2 s]                              * [kPa s])\n",
    "df['res tot [1/m]'] = df['TMP [kPa]'] / ((df['flux [L/m^2h]'] / (1000.0 * 3600.0)) * (df['viscosity permeate [Pa s]'] / 1000.0))"
   ]
  },
  {
   "cell_type": "code",
   "execution_count": 12,
   "metadata": {},
   "outputs": [],
   "source": [
    "df['viscosity permeate at 20°C [Pa s]'] = df.apply((lambda x : calc_viscosity(20, pressure_Pa=1000*(PRS_ATM_kpa+x['prs permeate [kPa]']), element='Water')), axis=1)\n",
    "df['flux at 20° [L/m^2h]'] = df['flux [L/m^2h]'] * df['viscosity permeate [Pa s]'] / df['viscosity permeate at 20°C [Pa s]']"
   ]
  },
  {
   "cell_type": "code",
   "execution_count": 13,
   "metadata": {},
   "outputs": [],
   "source": [
    "# add bool flag when machine is ON\n",
    "df['is_ON'] = df['TMP [kPa]'] >= 5\n",
    "# reset to zero flux, flow, and resistance columns when the machine is OFF (TMP < 5)\n",
    "# if reset_columns_when_OFF:\n",
    "#   for c in df.columns :\n",
    "#         if re.match(\"^(flow)|(flux)|(res).*\", c) :\n",
    "#             #print(f\" - {c}\")\n",
    "#           df[c] = df.apply(reset_cols_if_is_OFF, axis=1, args=('is_ON', c))"
   ]
  },
  {
   "cell_type": "code",
   "execution_count": 14,
   "metadata": {},
   "outputs": [],
   "source": [
    "# add a time in minutes column\n",
    "df['time [m]'] = df['time span [s]'].cumsum() / 60"
   ]
  },
  {
   "cell_type": "code",
   "execution_count": 15,
   "metadata": {},
   "outputs": [],
   "source": [
    "# normalize flux at a constant TMP\n",
    "df[f'flux at 20° TMP={CONST_TMP} [L/m^2h]'] = df['flux at 20° [L/m^2h]'] * (CONST_TMP / df['TMP [kPa]'])"
   ]
  },
  {
   "cell_type": "code",
   "execution_count": 16,
   "metadata": {},
   "outputs": [],
   "source": [
    "# TODO\n",
    "if False :\n",
    "    df.loc[0, 'TMP group'] = 0\n",
    "    for i in range(1, len(df)) :\n",
    "        cur_group = df.loc[i-1, 'TMP group'] + (0 if df.loc[i, 'changed TMP'] == 0 else 1)\n",
    "        df.loc[i, 'TMP group'] = cur_group\n",
    "    print('added TMP groups')"
   ]
  },
  {
   "cell_type": "code",
   "execution_count": 17,
   "metadata": {},
   "outputs": [],
   "source": [
    "# start from t=1\n",
    "# df['time [m]'] = df['time [m]'] - df.loc[0, 'time [m]'] + 1"
   ]
  },
  {
   "cell_type": "code",
   "execution_count": 18,
   "metadata": {},
   "outputs": [],
   "source": [
    "df.to_csv(out_file_path,index_label='index')"
   ]
  },
  {
   "cell_type": "code",
   "execution_count": 19,
   "metadata": {},
   "outputs": [],
   "source": [
    "#############################\n",
    "# EXPORT\n",
    "# print(f\"extended dataset exported as csv: {out_file}\")\n",
    "# df.to_csv(out_file, index=False)"
   ]
  }
 ],
 "metadata": {
  "kernelspec": {
   "display_name": "venv",
   "language": "python",
   "name": "python3"
  },
  "language_info": {
   "codemirror_mode": {
    "name": "ipython",
    "version": 3
   },
   "file_extension": ".py",
   "mimetype": "text/x-python",
   "name": "python",
   "nbconvert_exporter": "python",
   "pygments_lexer": "ipython3",
   "version": "3.11.2"
  }
 },
 "nbformat": 4,
 "nbformat_minor": 2
}
